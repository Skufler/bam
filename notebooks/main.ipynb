{
 "cells": [
  {
   "cell_type": "code",
   "execution_count": 5,
   "metadata": {
    "collapsed": true,
    "pycharm": {
     "is_executing": false
    }
   },
   "outputs": [],
   "source": [
    "import cv2\n",
    "\n",
    "import numpy as np\n",
    "import pandas as pd\n",
    "from scipy.spatial import distance\n",
    "from tqdm import tqdm"
   ]
  },
  {
   "cell_type": "code",
   "execution_count": 6,
   "metadata": {
    "pycharm": {
     "is_executing": false
    }
   },
   "outputs": [],
   "source": [
    "IMAGE_WIDTH = 32\n",
    "IMAGE_HEIGHT = 32\n",
    "\n",
    "PATH_PREFIX_1 = '../data/letters/'\n",
    "PATH_PREFIX_2 = '../data/letters2/'\n",
    "PATH_PREFIX_3 = '../data/letters3/'\n",
    "\n",
    "# абвгдеёжзийклмнопрстуфхцчшщъыьэюя\n",
    "russian_alphabet = 'абвгдеёжзийклмнопрстуфхцчшщъыьэюя'"
   ]
  },
  {
   "cell_type": "code",
   "execution_count": 7,
   "metadata": {
    "pycharm": {
     "name": "#%%\n",
     "is_executing": false
    }
   },
   "outputs": [],
   "source": [
    "class BAM:\n",
    "    def __init__(self, train_df):\n",
    "        self.pairs = train_df\n",
    "\n",
    "        self.len_x = IMAGE_HEIGHT\n",
    "        self.len_y = IMAGE_WIDTH\n",
    "\n",
    "        assert self.len_x > 0\n",
    "        assert self.len_y > 0\n",
    "\n",
    "        self.kernel = np.zeros(shape=(self.len_y, self.len_x), dtype='uint8')\n",
    "        self.make_association_matrix()\n",
    "\n",
    "    def make_association_matrix(self):\n",
    "        for vector in tqdm(self.pairs, desc='Building kernel'):\n",
    "            x = np.array(vector[0])\n",
    "            y = np.array(vector[1])\n",
    "\n",
    "            self.kernel = np.add(self.kernel, np.dot(x.T[:, None], y[None]))\n",
    "        print('MAX: ', np.max(self.kernel))\n",
    "\n",
    "    def solve(self, input_vector):\n",
    "        input_vector = input_vector.dot(self.kernel)\n",
    "        return self.compute_threshold(input_vector)\n",
    "\n",
    "    def get_kernel(self):\n",
    "        return self.kernel\n",
    "\n",
    "    @staticmethod\n",
    "    def compute_threshold(vector) -> np.array:\n",
    "        return np.array([0 if x < 0 else 1 for x in vector])\n",
    "\n",
    "    @staticmethod\n",
    "    def convert_to_bipolar(_image) -> np.array:\n",
    "        return np.array([-1 if x == 0 else 1 for x in _image])  \n"
   ]
  },
  {
   "cell_type": "code",
   "execution_count": 8,
   "outputs": [
    {
     "name": "stdout",
     "text": [
      "blas_mkl_info:\n  NOT AVAILABLE\nblis_info:\n  NOT AVAILABLE\nopenblas_info:\n    library_dirs = ['C:\\\\projects\\\\numpy-wheels\\\\numpy\\\\build\\\\openblas_info']\n    libraries = ['openblas_info']\n    language = f77\n    define_macros = [('HAVE_CBLAS', None)]\nblas_opt_info:\n    library_dirs = ['C:\\\\projects\\\\numpy-wheels\\\\numpy\\\\build\\\\openblas_info']\n    libraries = ['openblas_info']\n    language = f77\n    define_macros = [('HAVE_CBLAS', None)]\nlapack_mkl_info:\n  NOT AVAILABLE\nopenblas_lapack_info:\n    library_dirs = ['C:\\\\projects\\\\numpy-wheels\\\\numpy\\\\build\\\\openblas_lapack_info']\n    libraries = ['openblas_lapack_info']\n    language = f77\n    define_macros = [('HAVE_CBLAS', None)]\nlapack_opt_info:\n    library_dirs = ['C:\\\\projects\\\\numpy-wheels\\\\numpy\\\\build\\\\openblas_lapack_info']\n    libraries = ['openblas_lapack_info']\n    language = f77\n    define_macros = [('HAVE_CBLAS', None)]\nNone\n"
     ],
     "output_type": "stream"
    }
   ],
   "source": [
    "print(np.__config__.show())"
   ],
   "metadata": {
    "collapsed": false,
    "pycharm": {
     "name": "#%%\n",
     "is_executing": false
    }
   }
  },
  {
   "cell_type": "code",
   "execution_count": 9,
   "outputs": [],
   "source": [
    "def compute_distances(target, associations):\n",
    "    distances = distance.cdist(\n",
    "        [target],\n",
    "        np.array(\n",
    "            [[1 if x == 255 else 0 for x in y] for y in associations], dtype='uint8'\n",
    "        ),\n",
    "        \"cosine\"\n",
    "    )[0]\n",
    "    min_index = np.argmin(distances)\n",
    "    min_distance = distances[min_index]\n",
    "    max_similarity = 1 - min_distance\n",
    "\n",
    "    return max_similarity"
   ],
   "metadata": {
    "collapsed": false,
    "pycharm": {
     "name": "#%%\n",
     "is_executing": false
    }
   }
  },
  {
   "cell_type": "code",
   "execution_count": 10,
   "outputs": [],
   "source": [
    "def open_image(image_path) -> np.array:\n",
    "    # load image with alpha channel use IMREAD_UNCHANGED to ensure loading of alpha channel\n",
    "    _image = cv2.imread(image_path, cv2.IMREAD_UNCHANGED)\n",
    "    # make mask of where the transparent bits are\n",
    "    trans_mask = _image[:, :, 3] == 0\n",
    "\n",
    "    # replace areas of transparency with white and not transparent\n",
    "    _image[trans_mask] = [255, 255, 255, 255]\n",
    "\n",
    "    # new image without alpha channel...\n",
    "    new_img = cv2.cvtColor(_image, cv2.COLOR_BGRA2BGR)\n",
    "    new_img = cv2.resize(new_img, (IMAGE_HEIGHT, IMAGE_WIDTH))\n",
    "\n",
    "    return np.array(new_img, dtype='uint8')"
   ],
   "metadata": {
    "collapsed": false,
    "pycharm": {
     "name": "#%%\n",
     "is_executing": false
    }
   }
  },
  {
   "cell_type": "code",
   "execution_count": 11,
   "outputs": [],
   "source": [
    "def make_pair(input_matrix):\n",
    "    return np.array([\n",
    "        BAM.convert_to_bipolar(input_matrix[0]),\n",
    "        BAM.convert_to_bipolar(input_matrix[1])\n",
    "    ])\n"
   ],
   "metadata": {
    "collapsed": false,
    "pycharm": {
     "name": "#%%\n",
     "is_executing": false
    }
   }
  },
  {
   "cell_type": "code",
   "execution_count": 12,
   "outputs": [
    {
     "data": {
      "text/plain": "  letter  label       file  background\n0      а      1  01_01.png           0\n1      а      1  01_02.png           0\n2      а      1  01_03.png           0\n3      а      1  01_04.png           0\n4      а      1  01_05.png           0",
      "text/html": "<div>\n<style scoped>\n    .dataframe tbody tr th:only-of-type {\n        vertical-align: middle;\n    }\n\n    .dataframe tbody tr th {\n        vertical-align: top;\n    }\n\n    .dataframe thead th {\n        text-align: right;\n    }\n</style>\n<table border=\"1\" class=\"dataframe\">\n  <thead>\n    <tr style=\"text-align: right;\">\n      <th></th>\n      <th>letter</th>\n      <th>label</th>\n      <th>file</th>\n      <th>background</th>\n    </tr>\n  </thead>\n  <tbody>\n    <tr>\n      <th>0</th>\n      <td>а</td>\n      <td>1</td>\n      <td>01_01.png</td>\n      <td>0</td>\n    </tr>\n    <tr>\n      <th>1</th>\n      <td>а</td>\n      <td>1</td>\n      <td>01_02.png</td>\n      <td>0</td>\n    </tr>\n    <tr>\n      <th>2</th>\n      <td>а</td>\n      <td>1</td>\n      <td>01_03.png</td>\n      <td>0</td>\n    </tr>\n    <tr>\n      <th>3</th>\n      <td>а</td>\n      <td>1</td>\n      <td>01_04.png</td>\n      <td>0</td>\n    </tr>\n    <tr>\n      <th>4</th>\n      <td>а</td>\n      <td>1</td>\n      <td>01_05.png</td>\n      <td>0</td>\n    </tr>\n  </tbody>\n</table>\n</div>"
     },
     "metadata": {},
     "output_type": "execute_result",
     "execution_count": 12
    }
   ],
   "source": [
    "\n",
    "dataset = pd.read_csv('../data/letters.csv')\n",
    "dataset.head()\n"
   ],
   "metadata": {
    "collapsed": false,
    "pycharm": {
     "name": "#%%\n",
     "is_executing": false
    }
   }
  },
  {
   "cell_type": "code",
   "execution_count": null,
   "outputs": [],
   "source": [
    "# bam = BAM(dataset['file'])\n"
   ],
   "metadata": {
    "collapsed": false,
    "pycharm": {
     "name": "#%%\n"
    }
   }
  },
  {
   "cell_type": "code",
   "execution_count": 24,
   "outputs": [
    {
     "traceback": [
      "\u001b[1;31m---------------------------------------------------------------------------\u001b[0m",
      "\u001b[1;31mTypeError\u001b[0m                                 Traceback (most recent call last)",
      "\u001b[1;32m<ipython-input-24-6aff873ef757>\u001b[0m in \u001b[0;36m<module>\u001b[1;34m\u001b[0m\n\u001b[0;32m     13\u001b[0m         a_i = np.concatenate((\n\u001b[0;32m     14\u001b[0m             \u001b[0ma_i\u001b[0m\u001b[1;33m,\u001b[0m\u001b[1;33m\u001b[0m\u001b[1;33m\u001b[0m\u001b[0m\n\u001b[1;32m---> 15\u001b[1;33m             \u001b[0mmake_pair\u001b[0m\u001b[1;33m(\u001b[0m\u001b[1;33m[\u001b[0m\u001b[0mimage\u001b[0m\u001b[1;33m.\u001b[0m\u001b[0mravel\u001b[0m\u001b[1;33m(\u001b[0m\u001b[1;33m)\u001b[0m\u001b[1;33m,\u001b[0m \u001b[0mb_i\u001b[0m\u001b[1;33m[\u001b[0m\u001b[0mint\u001b[0m\u001b[1;33m(\u001b[0m\u001b[0mpath\u001b[0m\u001b[1;33m[\u001b[0m\u001b[1;33m:\u001b[0m\u001b[1;36m2\u001b[0m\u001b[1;33m:\u001b[0m\u001b[1;33m]\u001b[0m\u001b[1;33m)\u001b[0m\u001b[1;33m]\u001b[0m\u001b[1;33m]\u001b[0m\u001b[1;33m)\u001b[0m\u001b[1;33m\u001b[0m\u001b[1;33m\u001b[0m\u001b[0m\n\u001b[0m\u001b[0;32m     16\u001b[0m         ))\n",
      "\u001b[1;32m<ipython-input-11-0dd462247c1c>\u001b[0m in \u001b[0;36mmake_pair\u001b[1;34m(input_matrix)\u001b[0m\n\u001b[0;32m      2\u001b[0m     return np.array([\n\u001b[0;32m      3\u001b[0m         \u001b[0mBAM\u001b[0m\u001b[1;33m.\u001b[0m\u001b[0mconvert_to_bipolar\u001b[0m\u001b[1;33m(\u001b[0m\u001b[0minput_matrix\u001b[0m\u001b[1;33m[\u001b[0m\u001b[1;36m0\u001b[0m\u001b[1;33m]\u001b[0m\u001b[1;33m)\u001b[0m\u001b[1;33m,\u001b[0m\u001b[1;33m\u001b[0m\u001b[1;33m\u001b[0m\u001b[0m\n\u001b[1;32m----> 4\u001b[1;33m         \u001b[0mBAM\u001b[0m\u001b[1;33m.\u001b[0m\u001b[0mconvert_to_bipolar\u001b[0m\u001b[1;33m(\u001b[0m\u001b[0minput_matrix\u001b[0m\u001b[1;33m[\u001b[0m\u001b[1;36m1\u001b[0m\u001b[1;33m]\u001b[0m\u001b[1;33m)\u001b[0m\u001b[1;33m\u001b[0m\u001b[1;33m\u001b[0m\u001b[0m\n\u001b[0m\u001b[0;32m      5\u001b[0m     ])\n\u001b[0;32m      6\u001b[0m \u001b[1;33m\u001b[0m\u001b[0m\n",
      "\u001b[1;32m<ipython-input-7-916422d78453>\u001b[0m in \u001b[0;36mconvert_to_bipolar\u001b[1;34m(_image)\u001b[0m\n\u001b[0;32m     33\u001b[0m     \u001b[1;33m@\u001b[0m\u001b[0mstaticmethod\u001b[0m\u001b[1;33m\u001b[0m\u001b[1;33m\u001b[0m\u001b[0m\n\u001b[0;32m     34\u001b[0m     \u001b[1;32mdef\u001b[0m \u001b[0mconvert_to_bipolar\u001b[0m\u001b[1;33m(\u001b[0m\u001b[0m_image\u001b[0m\u001b[1;33m)\u001b[0m \u001b[1;33m->\u001b[0m \u001b[0mnp\u001b[0m\u001b[1;33m.\u001b[0m\u001b[0marray\u001b[0m\u001b[1;33m:\u001b[0m\u001b[1;33m\u001b[0m\u001b[1;33m\u001b[0m\u001b[0m\n\u001b[1;32m---> 35\u001b[1;33m         \u001b[1;32mreturn\u001b[0m \u001b[0mnp\u001b[0m\u001b[1;33m.\u001b[0m\u001b[0marray\u001b[0m\u001b[1;33m(\u001b[0m\u001b[1;33m[\u001b[0m\u001b[1;33m-\u001b[0m\u001b[1;36m1\u001b[0m \u001b[1;32mif\u001b[0m \u001b[0mx\u001b[0m \u001b[1;33m==\u001b[0m \u001b[1;36m0\u001b[0m \u001b[1;32melse\u001b[0m \u001b[1;36m1\u001b[0m \u001b[1;32mfor\u001b[0m \u001b[0mx\u001b[0m \u001b[1;32min\u001b[0m \u001b[0m_image\u001b[0m\u001b[1;33m]\u001b[0m\u001b[1;33m)\u001b[0m\u001b[1;33m\u001b[0m\u001b[1;33m\u001b[0m\u001b[0m\n\u001b[0m\u001b[0;32m     36\u001b[0m \u001b[1;33m\u001b[0m\u001b[0m\n",
      "\u001b[1;31mTypeError\u001b[0m: 'numpy.float64' object is not iterable"
     ],
     "ename": "TypeError",
     "evalue": "'numpy.float64' object is not iterable",
     "output_type": "error"
    }
   ],
   "source": [
    "images_path = dataset['file']\n",
    "\n",
    "a_i = np.array([])\n",
    "b_i = np.array([])\n",
    "\n",
    "for index, path in enumerate(images_path):\n",
    "    image = open_image(PATH_PREFIX_1 + path)\n",
    "    \n",
    "    if path[3:5:] == '01':\n",
    "        perfect = images_path[index]\n",
    "        b_i = np.concatenate((b_i, image.ravel()))   \n",
    "    else:\n",
    "        a_i = np.concatenate((\n",
    "            a_i,\n",
    "            make_pair([image.ravel(), b_i[int(path[:2:])]])\n",
    "        ))"
   ],
   "metadata": {
    "collapsed": false,
    "pycharm": {
     "name": "#%%\n",
     "is_executing": false
    }
   }
  },
  {
   "cell_type": "code",
   "execution_count": null,
   "outputs": [],
   "source": [
    "bam = BAM(a_i)\n",
    "\n",
    "print(bam.solve(PATH_PREFIX_1 + '24_34.png'))\n",
    "print(russian_alphabet[25])\n"
   ],
   "metadata": {
    "collapsed": false,
    "pycharm": {
     "name": "#%%\n"
    }
   }
  }
 ],
 "metadata": {
  "kernelspec": {
   "name": "local",
   "language": "python",
   "display_name": "local"
  },
  "language_info": {
   "codemirror_mode": {
    "name": "ipython",
    "version": 3
   },
   "file_extension": ".py",
   "mimetype": "text/x-python",
   "name": "python",
   "nbconvert_exporter": "python",
   "pygments_lexer": "ipython3",
   "version": "3.7.2"
  },
  "pycharm": {
   "stem_cell": {
    "cell_type": "raw",
    "source": [],
    "metadata": {
     "collapsed": false
    }
   }
  }
 },
 "nbformat": 4,
 "nbformat_minor": 2
}